{
 "cells": [
  {
   "cell_type": "markdown",
   "metadata": {},
   "source": [
    "## Write a Numpy program to compute the multiplication of two given matrixes"
   ]
  },
  {
   "cell_type": "markdown",
   "metadata": {},
   "source": [
    "#### Numpy program to compute the multiplication of two given matrixes"
   ]
  },
  {
   "cell_type": "code",
   "execution_count": 7,
   "metadata": {},
   "outputs": [
    {
     "name": "stdout",
     "output_type": "stream",
     "text": [
      "original matrix:\n",
      "[[1, 0], [0, 1]]\n",
      "[[1, 2], [3, 4]]\n",
      "Result of the said matrix multiplication:\n",
      "[[1 2]\n",
      " [3 4]]\n"
     ]
    }
   ],
   "source": [
    "####Numpy program to compute the multiplication of two given matrixes\n",
    "import numpy as np\n",
    "p = [[1, 0], [0, 1]]\n",
    "q = [[1, 2], [3, 4]]\n",
    "print(\"original matrix:\")\n",
    "print(p)\n",
    "print(q)\n",
    "result1 = np.dot(p, q)\n",
    "print(\"Result of the said matrix multiplication:\")\n",
    "print(result1)\n",
    "\n"
   ]
  },
  {
   "cell_type": "markdown",
   "metadata": {},
   "source": [
    "## Write a NumPy program to compute the determinant of a given square array"
   ]
  },
  {
   "cell_type": "code",
   "execution_count": 8,
   "metadata": {},
   "outputs": [
    {
     "name": "stdout",
     "output_type": "stream",
     "text": [
      "Original 2-d array\n",
      "[[1 0]\n",
      " [1 2]]\n",
      "Determinant of the said 2-D array:\n",
      "2.0\n"
     ]
    }
   ],
   "source": [
    "####NumPy program to compute the determinant of a given square array\n",
    "import numpy as np\n",
    "from numpy import linalg as LA\n",
    "a = np.array([[1, 0], [1, 2]])\n",
    "print(\"Original 2-d array\")\n",
    "print(a)\n",
    "print(\"Determinant of the said 2-D array:\")\n",
    "print(np.linalg.det(a))"
   ]
  },
  {
   "cell_type": "markdown",
   "metadata": {},
   "source": [
    "## Write a NumPy program to compute the cross product of two given vectors"
   ]
  },
  {
   "cell_type": "code",
   "execution_count": 10,
   "metadata": {},
   "outputs": [
    {
     "name": "stdout",
     "output_type": "stream",
     "text": [
      "original matrix:\n",
      "[[1, 0], [0, 1]]\n",
      "[[1, 2], [3, 4]]\n",
      "cross product of the said two vectors(p, q):\n",
      "[ 2 -3]\n",
      "cross product of the said two vectors(q, p):\n",
      "[-2  3]\n"
     ]
    }
   ],
   "source": [
    "###a NumPy program to compute the cross product of two given vectors.\n",
    "import numpy as np\n",
    "p = [[1, 0], [0, 1]]\n",
    "q = [[1, 2], [3, 4]]\n",
    "print(\"original matrix:\")\n",
    "print(p)\n",
    "print(q)\n",
    "result1 = np.cross(p, q)\n",
    "result2 = np.cross(q, p)\n",
    "print(\"cross product of the said two vectors(p, q):\")\n",
    "print(result1)\n",
    "print(\"cross product of the said two vectors(q, p):\")\n",
    "print(result2)\n"
   ]
  },
  {
   "cell_type": "code",
   "execution_count": null,
   "metadata": {},
   "outputs": [],
   "source": []
  },
  {
   "cell_type": "markdown",
   "metadata": {},
   "source": [
    "## Write a NumPy program to compute the condition number of a given matrix"
   ]
  },
  {
   "cell_type": "code",
   "execution_count": 11,
   "metadata": {},
   "outputs": [
    {
     "name": "stdout",
     "output_type": "stream",
     "text": [
      "Original matrix:\n",
      "[[ 1  0 -1]\n",
      " [ 0  1  0]\n",
      " [ 1  0  1]]\n",
      "The condition number of the said matrix:\n",
      "1.4142135623730951\n"
     ]
    }
   ],
   "source": [
    "### a NumPy program to compute the condition number of a given matrix.\n",
    "import numpy as np\n",
    "from numpy import linalg as LA\n",
    "a = np.array([[1, 0, -1], [0, 1, 0], [1, 0, 1]])\n",
    "print(\"Original matrix:\")\n",
    "print(a)\n",
    "print(\"The condition number of the said matrix:\")\n",
    "print(LA.cond(a))\n"
   ]
  },
  {
   "cell_type": "code",
   "execution_count": null,
   "metadata": {},
   "outputs": [],
   "source": []
  },
  {
   "cell_type": "markdown",
   "metadata": {},
   "source": [
    "## Write a NumPy program to compute the inverse of a given matrix"
   ]
  },
  {
   "cell_type": "code",
   "execution_count": 12,
   "metadata": {},
   "outputs": [
    {
     "name": "stdout",
     "output_type": "stream",
     "text": [
      "Original matrix:\n",
      "[[1 2]\n",
      " [3 4]]\n",
      "Inverse of the said matrix:\n",
      "[[-2.   1. ]\n",
      " [ 1.5 -0.5]]\n"
     ]
    }
   ],
   "source": [
    "#a NumPy program to compute the inverse of a given matrix.\n",
    "import numpy as np\n",
    "m = np.array([[1,2],[3,4]])\n",
    "print(\"Original matrix:\")\n",
    "print(m)\n",
    "result =  np.linalg.inv(m)\n",
    "print(\"Inverse of the said matrix:\")\n",
    "print(result)\n"
   ]
  },
  {
   "cell_type": "code",
   "execution_count": null,
   "metadata": {},
   "outputs": [],
   "source": []
  },
  {
   "cell_type": "code",
   "execution_count": null,
   "metadata": {},
   "outputs": [],
   "source": []
  }
 ],
 "metadata": {
  "kernelspec": {
   "display_name": "Python 3 (ipykernel)",
   "language": "python",
   "name": "python3"
  },
  "language_info": {
   "codemirror_mode": {
    "name": "ipython",
    "version": 3
   },
   "file_extension": ".py",
   "mimetype": "text/x-python",
   "name": "python",
   "nbconvert_exporter": "python",
   "pygments_lexer": "ipython3",
   "version": "3.9.7"
  }
 },
 "nbformat": 4,
 "nbformat_minor": 2
}
